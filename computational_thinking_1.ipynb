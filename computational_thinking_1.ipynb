{
 "cells": [
  {
   "cell_type": "code",
   "execution_count": null,
   "id": "f7220909",
   "metadata": {},
   "outputs": [],
   "source": [
    "# you will not understand how to write a program right now.\n",
    "# but I am showing a program to understand the meaning of \n",
    "# programming, and how python program looks like."
   ]
  },
  {
   "cell_type": "markdown",
   "id": "b028debe",
   "metadata": {},
   "source": [
    "# Ascending Order Program"
   ]
  },
  {
   "cell_type": "code",
   "execution_count": 2,
   "id": "68307598",
   "metadata": {},
   "outputs": [
    {
     "name": "stdout",
     "output_type": "stream",
     "text": [
      "mini -5\n",
      "given_list [33, 10, 6, 42, 3, 100]\n",
      "final_list [-5]\n"
     ]
    }
   ],
   "source": [
    "final_list = []\n",
    "given_list = [33, 10, -5, 6, 42, 3, 100]\n",
    "mini = min(given_list)\n",
    "final_list.append(mini)\n",
    "given_list.remove(mini)\n",
    "print('mini', mini)\n",
    "print('given_list', given_list)\n",
    "print('final_list', final_list)"
   ]
  },
  {
   "cell_type": "code",
   "execution_count": 5,
   "id": "8af18cd0",
   "metadata": {},
   "outputs": [
    {
     "name": "stdout",
     "output_type": "stream",
     "text": [
      "given_list []\n",
      "final_list [-5, 3, 6, 10, 33, 42, 100]\n"
     ]
    }
   ],
   "source": [
    "final_list = []\n",
    "given_list = [33, 10, -5, 6, 42, 3, 100]\n",
    "\n",
    "while len(given_list)!=0:\n",
    "    mini = min(given_list)\n",
    "    final_list.append(mini)\n",
    "    given_list.remove(mini)\n",
    "\n",
    "print('given_list', given_list)\n",
    "print('final_list', final_list)"
   ]
  },
  {
   "cell_type": "code",
   "execution_count": null,
   "id": "076a0e41",
   "metadata": {},
   "outputs": [],
   "source": []
  }
 ],
 "metadata": {
  "kernelspec": {
   "display_name": "Python 3 (ipykernel)",
   "language": "python",
   "name": "python3"
  },
  "language_info": {
   "codemirror_mode": {
    "name": "ipython",
    "version": 3
   },
   "file_extension": ".py",
   "mimetype": "text/x-python",
   "name": "python",
   "nbconvert_exporter": "python",
   "pygments_lexer": "ipython3",
   "version": "3.8.9"
  }
 },
 "nbformat": 4,
 "nbformat_minor": 5
}
